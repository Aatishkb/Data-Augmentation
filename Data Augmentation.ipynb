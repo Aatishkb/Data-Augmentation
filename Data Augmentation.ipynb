{
 "cells": [
  {
   "cell_type": "markdown",
   "id": "60d8437b-b4b3-4cd0-b4a1-0da8836afd52",
   "metadata": {},
   "source": [
    "# Data Augmentation"
   ]
  },
  {
   "cell_type": "code",
   "execution_count": null,
   "id": "bd6601cb-2903-4b26-b82e-9c33d5de5fb8",
   "metadata": {},
   "outputs": [],
   "source": [
    "import os\n",
    "import cv2\n",
    "import numpy as np\n",
    "\n",
    "def random_augmentation(image):\n",
    "    # Randomly choose augmentation techniques\n",
    "    augmentation_choices = ['flip', 'rotate', 'blur', 'brightness']\n",
    "    selected_augmentations = np.random.choice(augmentation_choices, size=np.random.randint(1, len(augmentation_choices) + 1), replace=False)\n",
    "    \n",
    "    # Apply selected augmentations\n",
    "    augmented_image = image.copy()\n",
    "    for augmentation in selected_augmentations:\n",
    "        if augmentation == 'flip':\n",
    "            augmented_image = cv2.flip(augmented_image, np.random.randint(-1, 2))\n",
    "        elif augmentation == 'rotate':\n",
    "            angle = np.random.uniform(-45, 45)\n",
    "            rows, cols = augmented_image.shape[:2]\n",
    "            rotation_matrix = cv2.getRotationMatrix2D((cols / 2, rows / 2), angle, 1)\n",
    "            augmented_image = cv2.warpAffine(augmented_image, rotation_matrix, (cols, rows))\n",
    "        elif augmentation == 'blur':\n",
    "            kernel_size = np.random.choice([3, 5, 7])\n",
    "            augmented_image = cv2.GaussianBlur(augmented_image, (kernel_size, kernel_size), 0)\n",
    "        elif augmentation == 'brightness':\n",
    "            brightness_factor = np.random.uniform(0.5, 1.5)\n",
    "            augmented_image = cv2.convertScaleAbs(augmented_image, alpha=brightness_factor, beta=0)\n",
    "    \n",
    "    return augmented_image\n",
    "\n",
    "# Input and output folder paths\n",
    "input_folder = r'A:\\MTECH(Data Science)\\DataSet\\oral cancer data set\\malignant_lesions' # Copy Path of folder which you want to augment\n",
    "output_folder = r'C:\\augmented_malignant_lesions' # Here after augmented image will store\n",
    "\n",
    "# Create output folder if it doesn't exist\n",
    "if not os.path.exists(output_folder):\n",
    "    os.makedirs(output_folder)\n",
    "\n",
    "# Desired number of images to generate\n",
    "desired_num_images = 1111\n",
    "num_generated = 0\n",
    "\n",
    "# Iterate over each file in the input folder\n",
    "while num_generated < desired_num_images:\n",
    "    for filename in os.listdir(input_folder):\n",
    "        # Check if the file is an image file\n",
    "        if filename.endswith('.jpg') or filename.endswith('.png'):\n",
    "            # Load the image\n",
    "            image_path = os.path.join(input_folder, filename)\n",
    "            image = cv2.imread(image_path)\n",
    "            \n",
    "            # Augment the image\n",
    "            augmented_image = random_augmentation(image)\n",
    "            \n",
    "            # Save the augmented image\n",
    "            output_path = os.path.join(output_folder, f\"{num_generated}_{filename}\")  # Add a unique identifier to avoid overwriting\n",
    "            cv2.imwrite(output_path, augmented_image)\n",
    "            \n",
    "            num_generated += 1\n",
    "            if num_generated >= desired_num_images:\n",
    "                break\n",
    "\n",
    "print(\"Augmentation completed and images saved to the output folder.\")\n"
   ]
  },
  {
   "cell_type": "markdown",
   "id": "2802f390-c2a3-45b6-8d78-1182b7dda021",
   "metadata": {},
   "source": [
    "- Augmentation completed and images saved to the output folder."
   ]
  },
  {
   "cell_type": "markdown",
   "id": "ea40eb30-4068-438c-89f3-ed3d4a97d512",
   "metadata": {},
   "source": [
    "## Name - Aatish Kumar Baitha\n",
    "  - M.Tech(Data Science 2nd Year Student)\n",
    "- My Linkedin Profile -\n",
    "  - https://www.linkedin.com/in/aatish-kumar-baitha-ba9523191\n",
    "- My Blog\n",
    "  - https://computersciencedatascience.blogspot.com/\n",
    "- My Github Profile\n",
    "  - https://github.com/Aatishkb"
   ]
  },
  {
   "cell_type": "markdown",
   "id": "95b078c1-701c-4a6a-bbf7-11e72b7f7f29",
   "metadata": {},
   "source": [
    "# Thank you!"
   ]
  }
 ],
 "metadata": {
  "kernelspec": {
   "display_name": "Python 3 (ipykernel)",
   "language": "python",
   "name": "python3"
  },
  "language_info": {
   "codemirror_mode": {
    "name": "ipython",
    "version": 3
   },
   "file_extension": ".py",
   "mimetype": "text/x-python",
   "name": "python",
   "nbconvert_exporter": "python",
   "pygments_lexer": "ipython3",
   "version": "3.11.1"
  }
 },
 "nbformat": 4,
 "nbformat_minor": 5
}
